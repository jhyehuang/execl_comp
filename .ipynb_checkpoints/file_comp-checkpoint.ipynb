{
 "cells": [
  {
   "cell_type": "code",
   "execution_count": 38,
   "metadata": {
    "collapsed": true
   },
   "outputs": [],
   "source": [
    "#-*- coding: utf-8 -*-\n",
    "\n",
    "import xlrd\n",
    "import xlwt\n",
    "import os\n",
    "import time;  # 引入time模块\n",
    "import traceback\n",
    "from openpyxl import Workbook\n",
    "from openpyxl import load_workbook\n",
    "import openpyxl\n",
    "from xlutils.copy import copy\n",
    "from copy import deepcopy \n",
    "\n",
    "pattern = xlwt.Pattern() # Create the Pattern \n",
    "pattern.pattern = xlwt.Pattern.SOLID_PATTERN # May be: NO_PATTERN, SOLID_PATTERN, or 0x00 through 0x12 \n",
    "pattern.pattern_fore_colour = 3 # May be: 8 through 63. 0 = Black, 1 = White, 2 = Red, 3 = Green, 4 = Blue, 5 = Yellow, 6 = Magenta, 7 = Cyan, 16 = Maroon, 17 = Dark Green, 18 = Dark Blue, 19 = Dark Yellow , almost brown), 20 = Dark Magenta, 21 = Teal, 22 = Light Gray, 23 = Dark Gray, the list goes on...\n",
    "\n",
    "style = xlwt.XFStyle() # Create the Pattern\n",
    "\n",
    "style.pattern = pattern # Add Pattern to Style"
   ]
  },
  {
   "cell_type": "code",
   "execution_count": 3,
   "metadata": {
    "collapsed": true
   },
   "outputs": [],
   "source": [
    "def fusion_filed_values(ori_list,tar_list):\n",
    "    keys='-'.join(map(str,ori_list[1:2]))+'-'+str(ori_list[13])\n",
    "    msg=[]\n",
    "    point=[]\n",
    "    for i,x in enumerate(ori_list):\n",
    "        if tar_list[i]==x:\n",
    "            pass\n",
    "        else:\n",
    "            #print(ori_list)\n",
    "            #print(tar_list)\n",
    "            point.append(i)\n",
    "            msg.append('%s修改:%s->%s'%(keys,str(x),str(tar_list[i])))\n",
    "            tar_list[i]=x\n",
    "    return msg,point,tar_list"
   ]
  },
  {
   "cell_type": "code",
   "execution_count": 4,
   "metadata": {
    "collapsed": true
   },
   "outputs": [],
   "source": [
    "def comp_filed_values(ori_list,tar_list):\n",
    "\n",
    "    if ori_list[1]=='':\n",
    "            #print(ori_list)\n",
    "        return 'dont'\n",
    "    \n",
    "    ori_=[ori_list[1],ori_list[2],ori_list[13],ori_list[22]]\n",
    "    tar_=[tar_list[1],tar_list[2],tar_list[13],tar_list[22]]\n",
    "    \n",
    "    for i,x in enumerate(ori_):\n",
    "        if x=='':\n",
    "            ori_.pop(i)\n",
    "            tar_.pop(i)\n",
    "    for i,x in enumerate(tar_):\n",
    "        if x=='':\n",
    "            ori_.pop(i)\n",
    "            tar_.pop(i)\n",
    "            \n",
    "    if ori_==tar_: \n",
    "        return 'done'\n",
    "    #print(ori_,tar_)\n",
    "    return 'dont'"
   ]
  },
  {
   "cell_type": "code",
   "execution_count": 5,
   "metadata": {
    "collapsed": true
   },
   "outputs": [],
   "source": [
    "def execl_copy(ori_file):\n",
    "    os.system('copy '+ori_file+' result.xls')"
   ]
  },
  {
   "cell_type": "code",
   "execution_count": 6,
   "metadata": {
    "collapsed": true
   },
   "outputs": [],
   "source": [
    "def result_copy(tar_file):\n",
    "    os.system('copy '+'result.xls '+tar_file)"
   ]
  },
  {
   "cell_type": "code",
   "execution_count": 7,
   "metadata": {
    "collapsed": true
   },
   "outputs": [],
   "source": [
    "def append_excel(sheet,rows,line):\n",
    "    #print(line)\n",
    "    for col in range(len(line)):\n",
    "        sheet.write(rows,col,line[col],style)\n",
    "    return sheet\n",
    "    "
   ]
  },
  {
   "cell_type": "code",
   "execution_count": 9,
   "metadata": {
    "collapsed": true
   },
   "outputs": [],
   "source": [
    "def prn_obj(obj):\n",
    "    print('\\n'.join(['%s:%s' % item for item in obj.__dict__.items()]))"
   ]
  },
  {
   "cell_type": "code",
   "execution_count": null,
   "metadata": {
    "collapsed": true
   },
   "outputs": [],
   "source": []
  },
  {
   "cell_type": "code",
   "execution_count": 50,
   "metadata": {},
   "outputs": [
    {
     "name": "stdout",
     "output_type": "stream",
     "text": [
      "2018-11-30 16:00:31  开始比对...\n",
      "887\n",
      "2018-11-30 16:00:31 表头一致\n",
      "2018-11-30 16:00:31 row:1 is different\n",
      "694 694 1 0\n",
      "839 839 1 0\n",
      "2018-11-30 16:00:31 row:882 is different\n",
      "2018-11-30 16:00:31 row:883 is different\n",
      "2018-11-30 16:00:31 row:884 is different\n",
      "2018-11-30 16:00:31 row:885 is different\n",
      "2018-11-30 16:00:31 row:886 is different\n",
      "2018-11-30 16:00:31 row:887 is different\n",
      "2018-11-30 16:00:31 row:888 is different\n",
      "2018-11-30 16:00:31 row:889 is different\n",
      "2018-11-30 16:00:31 row:890 is different\n",
      "2018-11-30 16:00:31 【预算目标分解表】比对结束\n",
      "2018-11-30 16:00:31 总记录数:890条,匹配到:59条,变更:4条,未匹配到:10条,新增:0条,删除线:2条\n"
     ]
    }
   ],
   "source": [
    "#往日志文件中追加内容函数\n",
    "def writeappend_logfile(filename,content):\n",
    "    file=open(filename,'a') #以追加方式打开日志文件\n",
    "    time_now= time.strftime(\"%Y-%m-%d %H:%M:%S\", time.localtime())  #系统时间格式化\n",
    "    file.writelines(time_now+':'+content+'\\n')      #写入内容\n",
    "    file.close() #关闭文件\n",
    "\n",
    "def read_excel(ori_path,tar_path,sub_name):#\n",
    "    success=0        #匹配一致数量\n",
    "    fail=0           #匹配不一致数量\n",
    "    modify=0         #修改的数量\n",
    "    new=0\n",
    "    struck_out_num=0\n",
    "    origin_xls={} #存储源xls文件\n",
    "    target_xls={} #比对的xls文件\n",
    "    #execl_copy(ori_path)\n",
    "    wb_ori=xlrd.open_workbook(ori_path,formatting_info=True) #打开原始文件\n",
    "    wb_tar=xlrd.open_workbook(tar_path,formatting_info=True) #打开目标文件\n",
    "    wb_result = copy(wb_tar)  # 新建一个文件，用来保存结果\n",
    "    sheet_result = wb_result.get_sheet(1)\n",
    "    \n",
    "\n",
    "    sheet_num = len(wb_ori.sheets()) #源表子表数量\n",
    "    \n",
    "    startime=time.strftime(\"%Y-%m-%d %H:%M:%S\", time.localtime())    #获取系统当前时间并格式化为格式\n",
    "    print (startime,' 开始比对...')\n",
    "    logname='log_'+startime[0:10]+'.log'               #截取日期年月日构成日志文件名\n",
    "\n",
    "    logfile=open(logname,'w')    #创建日志文件,如果文件存在则清空内容，不存在则创建，如果需要同时批量比对多张表，可以考虑将日志文件名作为参数传入\n",
    "    logfile.writelines(startime+':【开始比对】...'+'\\n')       #写入开始时间\n",
    "    logfile.close()            #关闭日志文件\n",
    "    \n",
    "    try:\n",
    "        sheet_ori=wb_ori.sheet_by_name(sub_name)\n",
    "        sheet_tar=wb_tar.sheet_by_name(sub_name)\n",
    "        cinfomap=sheet_ori.colinfo_map\n",
    "        rinfomap=sheet_ori.rowinfo_map\n",
    "        tar_cinfomap=sheet_tar.colinfo_map\n",
    "        tar_rinfomap=sheet_tar.rowinfo_map\n",
    "        ori_rows, ori_cols = sheet_ori.nrows, sheet_ori.ncols\n",
    "        tar_rows, tar_cols = sheet_ori.nrows, sheet_ori.ncols\n",
    "\n",
    "        def get_struck_out(ori_rows,tar_rows):\n",
    "            # 判断 是否划线了\n",
    "            t1=0\n",
    "            t2=0\n",
    "            if rinfomap.get(ori_rows,0):\n",
    "                ori_xf = wb_ori.xf_list[rinfomap[ori_rows].xf_index] \n",
    "                ori_font = wb_ori.font_list[ori_xf.font_index]\n",
    "                t1=ori_font.struck_out\n",
    "            if tar_rinfomap.get(tar_rows,0):\n",
    "                tar_xf = wb_tar.xf_list[tar_rinfomap[tar_rows].xf_index] \n",
    "                tar_font = wb_tar.font_list[tar_xf.font_index]\n",
    "                t2=tar_font.struck_out\n",
    "            if t1 > t2:\n",
    "                print(ori_rows,tar_rows,t1,t2)\n",
    "                return True\n",
    "            return False\n",
    "        print(len(rinfomap))\n",
    "        for rows in range(1,ori_rows):\n",
    "\n",
    "            if rinfomap.get(rows,0) and rinfomap[rows].hidden==1:\n",
    "                continue\n",
    "            orign_list=sheet_ori.row_values(rows) #源表i行数据\n",
    "            origin_xls[rows]=orign_list     #源表写入字典\n",
    "        for rows in range(1,tar_rows):\n",
    "            if sheet_tar.colinfo_map.get(rows,0) and sheet_tar.colinfo_map[rows].hidden==1:\n",
    "                continue\n",
    "            target_list=sheet_tar.row_values(rows) #目标表i行数据\n",
    "            target_xls[rows]=target_list    #目标表写入字典\n",
    "\n",
    "        if origin_xls[1]  == target_xls[1]:\n",
    "            print(time.strftime(\"%Y-%m-%d %H:%M:%S\", time.localtime())+' 表头一致')\n",
    "        new_add=[]\n",
    "        for ori_num in origin_xls:\n",
    "            flag='false'          #判断是否一致标志\n",
    "            fusion_msg=[]\n",
    "            temp=style\n",
    "            for tar_num in target_xls:\n",
    "                fetch_ret=comp_filed_values( origin_xls[ori_num],target_xls[tar_num])\n",
    "\n",
    "                if fetch_ret=='done':\n",
    "                    fusion_msg,point,target_line=fusion_filed_values( origin_xls[ori_num],target_xls[tar_num])\n",
    "                    flag='true'\n",
    "                    break              #如果匹配到结果退出循环\n",
    "            if origin_xls[ori_num][1]!='' and tar_num>=len(target_xls):\n",
    "                new_add.append(ori_num)\n",
    "                new+=1\n",
    "            if flag=='true' and get_struck_out(ori_num,tar_num):\n",
    "                struck_out_style=xlwt.XFStyle() # Create the Pattern\n",
    "                struck_out_style.pattern = pattern # Add Pattern to Style\n",
    "                font = xlwt.Font() \n",
    "                font.struck_out = 1\n",
    "                struck_out_style.font=font\n",
    "                temp=struck_out_style \n",
    "                struck_out_num+=1\n",
    "                logstr='删除线源行id:{:d},目标行id:{:d}'.format(ori_num,tar_num)\n",
    "                writeappend_logfile(logname,logstr)\n",
    "                for x in range(ori_cols):\n",
    "                    sheet_result.write(tar_num, x, sheet_ori.cell_value(ori_num, x),temp)\n",
    "            if fusion_msg!=[]:\n",
    "                writeappend_logfile(logname,','.join(fusion_msg))\n",
    "                modify+=1\n",
    "                for x in point:\n",
    "                    logstr='源行id:{:d},目标行id:{:d},修改列:{:d}'.format(ori_num,tar_num,x)\n",
    "                    writeappend_logfile(logname,logstr)\n",
    "                    sheet_result.write(tar_num, x, sheet_ori.cell_value(ori_num, x),temp)\n",
    "                #print(time.strftime(\"%Y-%m-%d %H:%M:%S\", time.localtime())+' row:%d is modify:%s'%(ori_num,','.join(fusion_msg)))\n",
    "\n",
    "            if flag=='true':           #匹配上结果输出后台日志\n",
    "                #print(time.strftime(\"%Y-%m-%d %H:%M:%S\", time.localtime())+' row:%d is ok'%ori_num)\n",
    "                success+=1\n",
    "            else:                      #匹配不上将源表中行记录写入txt\n",
    "                print(time.strftime(\"%Y-%m-%d %H:%M:%S\", time.localtime())+' row:%d is different'%ori_num)\n",
    "                fail+=1\n",
    "                data=origin_xls[ori_num]\n",
    "                logstr='【不一致】row<'+str(ori_num)+'>:'+str(data)\n",
    "                writeappend_logfile(logname,logstr)\n",
    "\n",
    "        if new>0:\n",
    "            for i,new_line in enumerate(new_add):\n",
    "                sheet_result=append_excel(sheet_result,tar_rows+i+2,origin_xls[new_line])\n",
    "       # logstr='【比对完成】总记录数:'+str(ori_num)+'条,一致:'+str(success)+'条,不一致:'+str(fail)+'条'\n",
    "        #print(list(target_xls.keys()))\n",
    "        logstr='【比对完成】总记录数:{:d}条,匹配到:{:d}条,变更:{:d}条,未匹配到:{:d}条,新增:{:d}条,删除线:{:d}条'.format(ori_num,\n",
    "                                                                                 success,modify,fail,new,struck_out_num)\n",
    "        print(time.strftime(\"%Y-%m-%d %H:%M:%S\", time.localtime())+' 【%s】比对结束'%sheet_ori.name)\n",
    "        print(time.strftime(\"%Y-%m-%d %H:%M:%S\", time.localtime())+' 总记录数:%d条,匹配到:%d条,变更:%d条,未匹配到:%d条,新增:%d条,删除线:%d条'%(ori_num,\n",
    "                                                                                                        success,modify,fail,new,struck_out_num))\n",
    "        writeappend_logfile(logname,logstr)\n",
    "    except Exception as err:\n",
    "        \n",
    "        msg=traceback.format_exc()\n",
    "        print(msg)\n",
    "        writeappend_logfile(logname,str(msg)) #输出异常\n",
    "    wb_result.save('result_'+startime[0:10]+'.xls')\n",
    "\n",
    "    \n",
    "\n",
    "def main():\n",
    "    pass\n",
    "\n",
    "if __name__ == '__main__':\n",
    "\n",
    "    read_excel(r'b.xls','a.xls','预算目标分解表')"
   ]
  },
  {
   "cell_type": "code",
   "execution_count": null,
   "metadata": {
    "collapsed": true
   },
   "outputs": [],
   "source": []
  },
  {
   "cell_type": "code",
   "execution_count": null,
   "metadata": {
    "collapsed": true
   },
   "outputs": [],
   "source": []
  },
  {
   "cell_type": "code",
   "execution_count": null,
   "metadata": {
    "collapsed": true
   },
   "outputs": [],
   "source": [
    "read_excel(r'b1.xls','a.xls','预算目标分解表')\n",
    "read_excel(r'b2.xls','result.xls','预算目标分解表')\n",
    "read_excel(r'b3.xls','result.xls','预算目标分解表')\n",
    "read_excel(r'b4.xls','result.xls','预算目标分解表')\n",
    "read_excel(r'b5.xls','result.xls','预算目标分解表')\n",
    "read_excel(r'b6.xls','result.xls','预算目标分解表')\n",
    "read_excel(r'b7.xls','result.xls','预算目标分解表')\n",
    "read_excel(r'b8.xls','result.xls','预算目标分解表')\n",
    "read_excel(r'b9.xls','result.xls','预算目标分解表')\n",
    "result.xls 改成a.xls 完事"
   ]
  }
 ],
 "metadata": {
  "kernelspec": {
   "display_name": "Python 3",
   "language": "python",
   "name": "python3"
  },
  "language_info": {
   "codemirror_mode": {
    "name": "ipython",
    "version": 3
   },
   "file_extension": ".py",
   "mimetype": "text/x-python",
   "name": "python",
   "nbconvert_exporter": "python",
   "pygments_lexer": "ipython3",
   "version": "3.6.3"
  }
 },
 "nbformat": 4,
 "nbformat_minor": 2
}
